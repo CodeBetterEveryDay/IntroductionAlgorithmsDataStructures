{
 "cells": [
  {
   "cell_type": "markdown",
   "metadata": {},
   "source": [
    "# Timing Results\n",
    "You can output the timing results on your own to validate the different behaviors. Note how slowly Loop() performs when compared against Set.\n"
   ]
  },
  {
   "cell_type": "code",
   "execution_count": 6,
   "metadata": {},
   "outputs": [
    {
     "name": "stdout",
     "output_type": "stream",
     "text": [
      "N\tSum     \tSet\t        String\t        Loop\n",
      "2\t0.000180\t0.000405\t0.000790\t0.000683\n",
      "4\t0.000245\t0.000543\t0.001301\t0.001412\n",
      "8\t0.000594\t0.000906\t0.002686\t0.004765\n",
      "16\t0.000702\t0.001796\t0.006847\t0.018192\n",
      "32\t0.002404\t0.006432\t0.012565\t0.040191\n",
      "64\t0.002454\t0.005637\t0.033022\t0.172966\n"
     ]
    }
   ],
   "source": [
    "from timing import outputTiming,sumValues,uniqueCheckLoop,uniqueCheckSet,uniqueCheckString\n",
    "\n",
    "outputTiming(7)\n"
   ]
  },
  {
   "cell_type": "code",
   "execution_count": null,
   "metadata": {},
   "outputs": [],
   "source": []
  }
 ],
 "metadata": {
  "kernelspec": {
   "display_name": "Python 3",
   "language": "python",
   "name": "python3"
  },
  "language_info": {
   "codemirror_mode": {
    "name": "ipython",
    "version": 3
   },
   "file_extension": ".py",
   "mimetype": "text/x-python",
   "name": "python",
   "nbconvert_exporter": "python",
   "pygments_lexer": "ipython3",
   "version": "3.7.3"
  }
 },
 "nbformat": 4,
 "nbformat_minor": 2
}
